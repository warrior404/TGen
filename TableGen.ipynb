{
  "nbformat": 4,
  "nbformat_minor": 0,
  "metadata": {
    "colab": {
      "name": "TableGen.ipynb",
      "provenance": []
    },
    "kernelspec": {
      "name": "python3",
      "display_name": "Python 3"
    }
  },
  "cells": [
    {
      "cell_type": "code",
      "metadata": {
        "id": "Dgsd8xGGnIdz",
        "outputId": "26ef5498-9459-40b5-e303-a7ef1b86db93",
        "colab": {
          "base_uri": "https://localhost:8080/"
        }
      },
      "source": [
        "import random\n",
        "import uuid\n",
        "import pandas as pd\n",
        "import numpy as np\n",
        "\n",
        "# Монтируем нужную папку гугл диска\n",
        "from google.colab import drive\n",
        "drive.mount('/gdrive')\n",
        "%cd /gdrive/My\\ Drive/\n",
        "\n",
        "\n",
        "# Переменные\n",
        "table_length = 7000\n",
        "user_quantity = 30\n",
        "start_date = '2020-10-01'\n",
        "end_date = '2020-11-11'\n",
        "\n",
        "# Генерация списков необходимых для таблицы\n",
        "order_id_lst = [uuid.uuid4() for i in range(table_length)]\n",
        "user_id_lst = np.random.randint(0, user_quantity, size=(1, table_length)).tolist()[0]\n",
        "possible_dates = pd.date_range(start=start_date, end=end_date)\n",
        "created_lst = [random.choice(possible_dates) for i in range(table_length)]\n",
        "\n",
        "# Создание датафрейма\n",
        "df = pd.DataFrame({'order_id': order_id_lst,\n",
        "                   'created': created_lst,\n",
        "                   'user_id': user_id_lst}).sort_values(by=['created', 'order_id', 'user_id']).reset_index(drop=True)\n",
        "\n",
        "# Проверка критических значений\n",
        "print(f'Уникальные order_id: {len(df.order_id.unique())}')\n",
        "print(f'Уникальные created: {len(df.created.unique())}')\n",
        "print(f'Уникальные user_id: {len(df.user_id.unique())}')\n",
        "\n",
        "# Сохранение таблицы\n",
        "df.to_csv('./orders.csv', index=False)"
      ],
      "execution_count": 3,
      "outputs": [
        {
          "output_type": "stream",
          "text": [
            "Drive already mounted at /gdrive; to attempt to forcibly remount, call drive.mount(\"/gdrive\", force_remount=True).\n",
            "/gdrive/My Drive\n",
            "Уникальные order_id: 7000\n",
            "Уникальные created: 42\n",
            "Уникальные user_id: 30\n"
          ],
          "name": "stdout"
        }
      ]
    }
  ]
}